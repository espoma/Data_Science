{
 "cells": [
  {
   "cell_type": "code",
   "execution_count": 1,
   "metadata": {},
   "outputs": [],
   "source": [
    "import sqlite3\n",
    "import pandas as pd\n",
    "from pathlib import Path"
   ]
  },
  {
   "cell_type": "code",
   "execution_count": 2,
   "metadata": {},
   "outputs": [],
   "source": [
    "path = Path('../Data/')"
   ]
  },
  {
   "cell_type": "markdown",
   "metadata": {},
   "source": [
    "## Import first database "
   ]
  },
  {
   "cell_type": "code",
   "execution_count": 3,
   "metadata": {},
   "outputs": [
    {
     "data": {
      "text/html": [
       "<div>\n",
       "<style scoped>\n",
       "    .dataframe tbody tr th:only-of-type {\n",
       "        vertical-align: middle;\n",
       "    }\n",
       "\n",
       "    .dataframe tbody tr th {\n",
       "        vertical-align: top;\n",
       "    }\n",
       "\n",
       "    .dataframe thead th {\n",
       "        text-align: right;\n",
       "    }\n",
       "</style>\n",
       "<table border=\"1\" class=\"dataframe\">\n",
       "  <thead>\n",
       "    <tr style=\"text-align: right;\">\n",
       "      <th></th>\n",
       "      <th>user_id</th>\n",
       "      <th>country</th>\n",
       "      <th>age</th>\n",
       "      <th>gender</th>\n",
       "      <th>start_date</th>\n",
       "    </tr>\n",
       "  </thead>\n",
       "  <tbody>\n",
       "    <tr>\n",
       "      <th>0</th>\n",
       "      <td>9541124</td>\n",
       "      <td>DK</td>\n",
       "      <td>22</td>\n",
       "      <td>male</td>\n",
       "      <td>2018-05-05</td>\n",
       "    </tr>\n",
       "    <tr>\n",
       "      <th>1</th>\n",
       "      <td>5946065</td>\n",
       "      <td>US</td>\n",
       "      <td>15</td>\n",
       "      <td>male</td>\n",
       "      <td>2018-01-24</td>\n",
       "    </tr>\n",
       "  </tbody>\n",
       "</table>\n",
       "</div>"
      ],
      "text/plain": [
       "   user_id country  age gender  start_date\n",
       "0  9541124      DK   22   male  2018-05-05\n",
       "1  5946065      US   15   male  2018-01-24"
      ]
     },
     "execution_count": 3,
     "metadata": {},
     "output_type": "execute_result"
    }
   ],
   "source": [
    "df = pd.read_csv(path / \"user_data.csv\")\n",
    "df.head(2)"
   ]
  },
  {
   "cell_type": "code",
   "execution_count": 4,
   "metadata": {},
   "outputs": [
    {
     "data": {
      "text/plain": [
       "(600000, 5)"
      ]
     },
     "execution_count": 4,
     "metadata": {},
     "output_type": "execute_result"
    }
   ],
   "source": [
    "df.shape"
   ]
  },
  {
   "cell_type": "code",
   "execution_count": 5,
   "metadata": {},
   "outputs": [],
   "source": [
    "db = sqlite3.connect(path / \"user_data.db\")"
   ]
  },
  {
   "cell_type": "code",
   "execution_count": 7,
   "metadata": {},
   "outputs": [],
   "source": [
    "c = db.cursor()\n",
    "try:\n",
    "    c.execute(\"\"\"\n",
    "            CREATE TABLE users (\n",
    "                user_id int,\n",
    "                country text,\n",
    "                age int,\n",
    "                gender text,\n",
    "                start_date text\n",
    "            )\n",
    "        \"\"\")\n",
    "except sqlite3.OperationalError:\n",
    "    print('table already exists')"
   ]
  },
  {
   "cell_type": "markdown",
   "metadata": {},
   "source": [
    "Export existing csv file to sql"
   ]
  },
  {
   "cell_type": "code",
   "execution_count": 8,
   "metadata": {},
   "outputs": [],
   "source": [
    "df.to_sql('users', db, if_exists='replace', index=False)"
   ]
  },
  {
   "cell_type": "markdown",
   "metadata": {},
   "source": [
    "Visualize the database in sql"
   ]
  },
  {
   "cell_type": "code",
   "execution_count": 9,
   "metadata": {},
   "outputs": [
    {
     "name": "stdout",
     "output_type": "stream",
     "text": [
      "600000\n"
     ]
    }
   ],
   "source": [
    "c.execute(\"SELECT * FROM users\")\n",
    "\n",
    "print(len(c.fetchall()))"
   ]
  },
  {
   "cell_type": "code",
   "execution_count": 10,
   "metadata": {},
   "outputs": [
    {
     "name": "stdout",
     "output_type": "stream",
     "text": [
      "(1, 9541124, 'DK', 22, 'male', '2018-05-05')\n",
      "(2, 5946065, 'US', 15, 'male', '2018-01-24')\n",
      "(3, 4180986, 'US', 32, 'female', '2018-12-17')\n"
     ]
    }
   ],
   "source": [
    "c.execute(\"SELECT rowid, * FROM users\")\n",
    "items = c.fetchmany(3)\n",
    "for item in items:\n",
    "    print(item)"
   ]
  },
  {
   "cell_type": "markdown",
   "metadata": {},
   "source": [
    "It looks alright.\n",
    "\n",
    "Now insert one value into the database"
   ]
  },
  {
   "cell_type": "code",
   "execution_count": 11,
   "metadata": {},
   "outputs": [
    {
     "name": "stdout",
     "output_type": "stream",
     "text": [
      "Command executed correctly\n"
     ]
    }
   ],
   "source": [
    "c.execute(\"\"\"\n",
    "    INSERT INTO users VALUES (9298372, 'US', 19, 'female', '2018-07-07')\n",
    "    \"\"\")\n",
    "\n",
    "db.commit()\n",
    "\n",
    "print('Command executed correctly')"
   ]
  },
  {
   "cell_type": "code",
   "execution_count": 12,
   "metadata": {},
   "outputs": [
    {
     "name": "stdout",
     "output_type": "stream",
     "text": [
      "(600001, 9298372, 'US', 19, 'female', '2018-07-07')\n"
     ]
    }
   ],
   "source": [
    "c.execute(\"SELECT rowid, * FROM users WHERE user_id = 9298372\")\n",
    "items = c.fetchall()\n",
    "\n",
    "for item in items:\n",
    "    print(item)"
   ]
  },
  {
   "cell_type": "markdown",
   "metadata": {},
   "source": [
    "So it worked.\n",
    "\n",
    "and so now insert at once many values into the database:"
   ]
  },
  {
   "cell_type": "code",
   "execution_count": 13,
   "metadata": {},
   "outputs": [],
   "source": [
    "many_ = [\n",
    "    (9298372, 'US', 49, 'male', '2018-07-07'),\n",
    "    (9298373, 'IT', 29, 'male', '2018-08-07'),\n",
    "    (9298374, 'DK', 39, 'female', '2018-09-07'),\n",
    "]\n",
    "\n",
    "c.executemany(\"INSERT INTO users VALUES (?, ?, ?, ? ,?)\", many_)\n",
    "\n",
    "db.commit()"
   ]
  },
  {
   "cell_type": "code",
   "execution_count": 14,
   "metadata": {},
   "outputs": [
    {
     "name": "stdout",
     "output_type": "stream",
     "text": [
      "(600001, 9298372, 'US', 19, 'female', '2018-07-07')\n",
      "(600002, 9298372, 'US', 49, 'male', '2018-07-07')\n",
      "(600003, 9298373, 'IT', 29, 'male', '2018-08-07')\n",
      "(600004, 9298374, 'DK', 39, 'female', '2018-09-07')\n"
     ]
    }
   ],
   "source": [
    "c.execute(\"SELECT rowid, * FROM users WHERE rowid > 600000\")\n",
    "\n",
    "items = c.fetchall()\n",
    "\n",
    "for item in items:\n",
    "    print(item)"
   ]
  },
  {
   "cell_type": "code",
   "execution_count": 15,
   "metadata": {},
   "outputs": [
    {
     "name": "stdout",
     "output_type": "stream",
     "text": [
      "600004\n"
     ]
    }
   ],
   "source": [
    "c.execute(\"SELECT * FROM users\")\n",
    "print(len(c.fetchall()))"
   ]
  },
  {
   "cell_type": "markdown",
   "metadata": {},
   "source": [
    "Everything looks fine. \n",
    "\n",
    "Let's play around a bit"
   ]
  },
  {
   "cell_type": "code",
   "execution_count": 16,
   "metadata": {},
   "outputs": [
    {
     "name": "stdout",
     "output_type": "stream",
     "text": [
      "138265\n"
     ]
    }
   ],
   "source": [
    "c.execute(\"SELECT * FROM users WHERE country = 'US' AND age < 25\")\n",
    "\n",
    "print(len(c.fetchall()))"
   ]
  },
  {
   "cell_type": "code",
   "execution_count": 17,
   "metadata": {},
   "outputs": [
    {
     "name": "stdout",
     "output_type": "stream",
     "text": [
      "93246\n"
     ]
    }
   ],
   "source": [
    "c.execute(\"\"\"SELECT * FROM users \n",
    "        WHERE country = 'US' \n",
    "        AND age < 25\n",
    "        AND gender = 'male'\n",
    "    \"\"\")\n",
    "\n",
    "print(len(c.fetchall()))"
   ]
  },
  {
   "cell_type": "code",
   "execution_count": 18,
   "metadata": {},
   "outputs": [
    {
     "name": "stdout",
     "output_type": "stream",
     "text": [
      "77583\n"
     ]
    }
   ],
   "source": [
    "c.execute(\"\"\"SELECT * FROM users \n",
    "        WHERE country = 'US' \n",
    "        AND age BETWEEN 20 AND 29\n",
    "        AND gender = 'male'\n",
    "    \"\"\")\n",
    "\n",
    "print(len(c.fetchall()))"
   ]
  },
  {
   "cell_type": "markdown",
   "metadata": {},
   "source": [
    "## Import another database into a second table"
   ]
  },
  {
   "cell_type": "code",
   "execution_count": 19,
   "metadata": {},
   "outputs": [
    {
     "data": {
      "text/html": [
       "<div>\n",
       "<style scoped>\n",
       "    .dataframe tbody tr th:only-of-type {\n",
       "        vertical-align: middle;\n",
       "    }\n",
       "\n",
       "    .dataframe tbody tr th {\n",
       "        vertical-align: top;\n",
       "    }\n",
       "\n",
       "    .dataframe thead th {\n",
       "        text-align: right;\n",
       "    }\n",
       "</style>\n",
       "<table border=\"1\" class=\"dataframe\">\n",
       "  <thead>\n",
       "    <tr style=\"text-align: right;\">\n",
       "      <th></th>\n",
       "      <th>ds</th>\n",
       "      <th>userid</th>\n",
       "    </tr>\n",
       "  </thead>\n",
       "  <tbody>\n",
       "    <tr>\n",
       "      <th>0</th>\n",
       "      <td>2020-01-01</td>\n",
       "      <td>3384044</td>\n",
       "    </tr>\n",
       "    <tr>\n",
       "      <th>1</th>\n",
       "      <td>2020-01-01</td>\n",
       "      <td>5543378</td>\n",
       "    </tr>\n",
       "  </tbody>\n",
       "</table>\n",
       "</div>"
      ],
      "text/plain": [
       "           ds   userid\n",
       "0  2020-01-01  3384044\n",
       "1  2020-01-01  5543378"
      ]
     },
     "execution_count": 19,
     "metadata": {},
     "output_type": "execute_result"
    }
   ],
   "source": [
    "df_a = pd.read_csv(path / \"prod_A.csv\")\n",
    "df_a.head(2)"
   ]
  },
  {
   "cell_type": "code",
   "execution_count": 20,
   "metadata": {},
   "outputs": [
    {
     "data": {
      "text/plain": [
       "(678802, 2)"
      ]
     },
     "execution_count": 20,
     "metadata": {},
     "output_type": "execute_result"
    }
   ],
   "source": [
    "df_a.shape"
   ]
  },
  {
   "cell_type": "code",
   "execution_count": 21,
   "metadata": {},
   "outputs": [
    {
     "data": {
      "text/html": [
       "<div>\n",
       "<style scoped>\n",
       "    .dataframe tbody tr th:only-of-type {\n",
       "        vertical-align: middle;\n",
       "    }\n",
       "\n",
       "    .dataframe tbody tr th {\n",
       "        vertical-align: top;\n",
       "    }\n",
       "\n",
       "    .dataframe thead th {\n",
       "        text-align: right;\n",
       "    }\n",
       "</style>\n",
       "<table border=\"1\" class=\"dataframe\">\n",
       "  <thead>\n",
       "    <tr style=\"text-align: right;\">\n",
       "      <th></th>\n",
       "      <th>ds</th>\n",
       "      <th>user_id</th>\n",
       "    </tr>\n",
       "  </thead>\n",
       "  <tbody>\n",
       "    <tr>\n",
       "      <th>0</th>\n",
       "      <td>2020-01-01</td>\n",
       "      <td>3384044</td>\n",
       "    </tr>\n",
       "    <tr>\n",
       "      <th>1</th>\n",
       "      <td>2020-01-01</td>\n",
       "      <td>5543378</td>\n",
       "    </tr>\n",
       "  </tbody>\n",
       "</table>\n",
       "</div>"
      ],
      "text/plain": [
       "           ds  user_id\n",
       "0  2020-01-01  3384044\n",
       "1  2020-01-01  5543378"
      ]
     },
     "execution_count": 21,
     "metadata": {},
     "output_type": "execute_result"
    }
   ],
   "source": [
    "df_a.rename(columns = {'userid': 'user_id'}, inplace=True)\n",
    "df_a.head(2)"
   ]
  },
  {
   "cell_type": "code",
   "execution_count": 22,
   "metadata": {},
   "outputs": [],
   "source": [
    "c = db.cursor()\n",
    "try:\n",
    "    c.execute(\"\"\"\n",
    "            CREATE TABLE users_a (\n",
    "                ds text,\n",
    "                user_id int\n",
    "            )\n",
    "        \"\"\")\n",
    "except sqlite3.OperationalError:\n",
    "    print('table already exists')\n",
    "    \n",
    "db.commit()"
   ]
  },
  {
   "cell_type": "code",
   "execution_count": 23,
   "metadata": {},
   "outputs": [],
   "source": [
    "#c_a.execute(\"DROP TABLE users_a\")\n",
    "#db_a.commit()"
   ]
  },
  {
   "cell_type": "code",
   "execution_count": 24,
   "metadata": {},
   "outputs": [],
   "source": [
    "df_a.to_sql('users_a', db, if_exists='replace', index=False)"
   ]
  },
  {
   "cell_type": "code",
   "execution_count": 25,
   "metadata": {},
   "outputs": [
    {
     "name": "stdout",
     "output_type": "stream",
     "text": [
      "678802\n"
     ]
    }
   ],
   "source": [
    "c.execute(\"SELECT * FROM users_a\")\n",
    "\n",
    "print(len(c.fetchall()))"
   ]
  },
  {
   "cell_type": "code",
   "execution_count": 26,
   "metadata": {},
   "outputs": [
    {
     "name": "stdout",
     "output_type": "stream",
     "text": [
      "[('2020-01-01', 3384044), ('2020-01-01', 5543378)]\n"
     ]
    }
   ],
   "source": [
    "c.execute(\"SELECT * FROM users_a ORDER BY ds LIMIT 2\")\n",
    "\n",
    "print(c.fetchall())"
   ]
  },
  {
   "cell_type": "markdown",
   "metadata": {},
   "source": [
    "## LEFT JOIN\n",
    "so that we have all the information we \n",
    "are provided with about the customers\n",
    "who purchases product A"
   ]
  },
  {
   "cell_type": "code",
   "execution_count": 27,
   "metadata": {},
   "outputs": [
    {
     "name": "stdout",
     "output_type": "stream",
     "text": [
      "('2020-01-01', 3384044, 3384044, 'US', 19, 'male', '2018-04-23')\n",
      "('2020-01-01', 5543378, 5543378, 'US', 22, 'female', '2018-01-03')\n",
      "('2020-01-01', 5773857, 5773857, 'US', 22, 'female', '2018-12-14')\n"
     ]
    }
   ],
   "source": [
    "c.execute(\"\"\"\n",
    "        SELECT * FROM users_a\n",
    "        LEFT JOIN users ON users.user_id = users_a.user_id\n",
    "    \"\"\")\n",
    "\n",
    "items = c.fetchmany(3)\n",
    "\n",
    "for item in items:\n",
    "    print(item)"
   ]
  },
  {
   "cell_type": "code",
   "execution_count": 28,
   "metadata": {},
   "outputs": [
    {
     "name": "stdout",
     "output_type": "stream",
     "text": [
      "678802\n"
     ]
    }
   ],
   "source": [
    "c.execute(\"\"\"\n",
    "        SELECT * FROM users_a\n",
    "        LEFT JOIN users ON users.user_id = users_a.user_id\n",
    "    \"\"\")\n",
    "\n",
    "print(len(c.fetchall()))"
   ]
  },
  {
   "cell_type": "markdown",
   "metadata": {},
   "source": [
    "## Import other database into a third table"
   ]
  },
  {
   "cell_type": "code",
   "execution_count": 29,
   "metadata": {},
   "outputs": [
    {
     "data": {
      "text/html": [
       "<div>\n",
       "<style scoped>\n",
       "    .dataframe tbody tr th:only-of-type {\n",
       "        vertical-align: middle;\n",
       "    }\n",
       "\n",
       "    .dataframe tbody tr th {\n",
       "        vertical-align: top;\n",
       "    }\n",
       "\n",
       "    .dataframe thead th {\n",
       "        text-align: right;\n",
       "    }\n",
       "</style>\n",
       "<table border=\"1\" class=\"dataframe\">\n",
       "  <thead>\n",
       "    <tr style=\"text-align: right;\">\n",
       "      <th></th>\n",
       "      <th>ds</th>\n",
       "      <th>userid</th>\n",
       "    </tr>\n",
       "  </thead>\n",
       "  <tbody>\n",
       "    <tr>\n",
       "      <th>0</th>\n",
       "      <td>2020-01-01</td>\n",
       "      <td>3384044</td>\n",
       "    </tr>\n",
       "    <tr>\n",
       "      <th>1</th>\n",
       "      <td>2020-01-01</td>\n",
       "      <td>5543378</td>\n",
       "    </tr>\n",
       "  </tbody>\n",
       "</table>\n",
       "</div>"
      ],
      "text/plain": [
       "           ds   userid\n",
       "0  2020-01-01  3384044\n",
       "1  2020-01-01  5543378"
      ]
     },
     "execution_count": 29,
     "metadata": {},
     "output_type": "execute_result"
    }
   ],
   "source": [
    "df_b = pd.read_csv(path / \"prod_B.csv\")\n",
    "df_b.head(2)"
   ]
  },
  {
   "cell_type": "code",
   "execution_count": 30,
   "metadata": {},
   "outputs": [
    {
     "data": {
      "text/plain": [
       "(233853, 2)"
      ]
     },
     "execution_count": 30,
     "metadata": {},
     "output_type": "execute_result"
    }
   ],
   "source": [
    "df_b.shape"
   ]
  },
  {
   "cell_type": "code",
   "execution_count": 32,
   "metadata": {},
   "outputs": [],
   "source": [
    "with db:\n",
    "    c.execute(\"\"\"CREATE TABLE users_b(\n",
    "            ds text,\n",
    "            userid int\n",
    "            )\n",
    "        \"\"\")"
   ]
  },
  {
   "cell_type": "code",
   "execution_count": 34,
   "metadata": {},
   "outputs": [],
   "source": [
    "df_b.to_sql('users_b', db, if_exists='replace', index=False)"
   ]
  },
  {
   "cell_type": "code",
   "execution_count": 35,
   "metadata": {},
   "outputs": [
    {
     "name": "stdout",
     "output_type": "stream",
     "text": [
      "('2020-01-02', 9786488)\n",
      "('2020-01-02', 2594765)\n",
      "('2020-01-02', 7752497)\n",
      "('2020-01-02', 8471765)\n",
      "('2020-01-02', 3654328)\n",
      "('2020-01-02', 9714961)\n",
      "('2020-01-02', 6572541)\n",
      "('2020-01-02', 8912150)\n",
      "('2020-01-02', 9779451)\n",
      "('2020-01-02', 1869675)\n",
      "('2020-01-02', 6045728)\n",
      "('2020-01-02', 9039475)\n",
      "('2020-01-02', 2781409)\n",
      "('2020-01-02', 4328457)\n",
      "('2020-01-02', 7253423)\n",
      "('2020-01-02', 7950890)\n",
      "('2020-01-02', 1635867)\n",
      "('2020-01-02', 7295311)\n",
      "('2020-01-02', 9167532)\n",
      "('2020-01-02', 9526008)\n"
     ]
    }
   ],
   "source": [
    "c.execute(\"\"\"SELECT * FROM users_b\n",
    "        WHERE ds BETWEEN \"2020-01-01\" AND \"2020-01-02\"\n",
    "        ORDER BY ds DESC\n",
    "        LIMIT 20\n",
    "    \"\"\")\n",
    "\n",
    "for item in c.fetchall():\n",
    "    print(item)"
   ]
  },
  {
   "cell_type": "markdown",
   "metadata": {},
   "source": [
    "## USE INNER JOIN\n",
    "to find all the users who purchased both products A and B"
   ]
  },
  {
   "cell_type": "code",
   "execution_count": 36,
   "metadata": {},
   "outputs": [
    {
     "name": "stdout",
     "output_type": "stream",
     "text": [
      "359576\n"
     ]
    }
   ],
   "source": [
    "c.execute(\"\"\"SELECT * FROM users_a\n",
    "        INNER JOIN users_b ON users_a.user_id = users_b.userid\n",
    "    \"\"\")\n",
    "\n",
    "print(len(c.fetchall()))"
   ]
  },
  {
   "cell_type": "markdown",
   "metadata": {},
   "source": [
    "## SELECT DISTINCT clause"
   ]
  },
  {
   "cell_type": "markdown",
   "metadata": {},
   "source": [
    "This cannot be the number we are looking for, as the number of users who purchased B are 233853, so less than this. This is due to the fact that we are not considering **distinct** values of user_id's. To fix this, we need to use SELECT DISTINCT"
   ]
  },
  {
   "cell_type": "code",
   "execution_count": 37,
   "metadata": {},
   "outputs": [
    {
     "name": "stdout",
     "output_type": "stream",
     "text": [
      "118887\n"
     ]
    }
   ],
   "source": [
    "c.execute(\"\"\"SELECT DISTINCT a.user_id, b.userid\n",
    "        FROM users_a AS a\n",
    "        INNER JOIN users_b AS b\n",
    "        ON a.user_id = b.userid\n",
    "    \"\"\")\n",
    "\n",
    "print(len(c.fetchall()))\n",
    "\n",
    "items = c.fetchmany(50)\n",
    "\n",
    "for item in items:\n",
    "    print(item)"
   ]
  }
 ],
 "metadata": {
  "kernelspec": {
   "display_name": "Python 3",
   "language": "python",
   "name": "python3"
  },
  "language_info": {
   "codemirror_mode": {
    "name": "ipython",
    "version": 3
   },
   "file_extension": ".py",
   "mimetype": "text/x-python",
   "name": "python",
   "nbconvert_exporter": "python",
   "pygments_lexer": "ipython3",
   "version": "3.8.3"
  }
 },
 "nbformat": 4,
 "nbformat_minor": 4
}
