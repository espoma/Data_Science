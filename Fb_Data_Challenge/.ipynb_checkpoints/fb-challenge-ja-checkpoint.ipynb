{
 "cells": [
  {
   "cell_type": "code",
   "execution_count": 1,
   "metadata": {},
   "outputs": [],
   "source": [
    "import pandas as pd\n",
    "import numpy as np\n",
    "import matplotlib.pyplot as plt"
   ]
  },
  {
   "cell_type": "code",
   "execution_count": 2,
   "metadata": {},
   "outputs": [
    {
     "name": "stdout",
     "output_type": "stream",
     "text": [
      "Fb_Analytics_Academy.ipynb  prod_A_sample.csv\r\n",
      "Untitled.ipynb\t\t    prod_B_sample.csv\r\n"
     ]
    }
   ],
   "source": [
    "!ls"
   ]
  },
  {
   "cell_type": "code",
   "execution_count": 3,
   "metadata": {},
   "outputs": [],
   "source": [
    "df_a = pd.read_csv('prod_A_sample.csv', usecols=['userid', 'country', 'age', 'gender', 'start_date', 'ds', 'count'],\n",
    "                   parse_dates=[4,5]\n",
    "                  )"
   ]
  },
  {
   "cell_type": "code",
   "execution_count": 4,
   "metadata": {},
   "outputs": [
    {
     "data": {
      "text/html": [
       "<div>\n",
       "<style scoped>\n",
       "    .dataframe tbody tr th:only-of-type {\n",
       "        vertical-align: middle;\n",
       "    }\n",
       "\n",
       "    .dataframe tbody tr th {\n",
       "        vertical-align: top;\n",
       "    }\n",
       "\n",
       "    .dataframe thead th {\n",
       "        text-align: right;\n",
       "    }\n",
       "</style>\n",
       "<table border=\"1\" class=\"dataframe\">\n",
       "  <thead>\n",
       "    <tr style=\"text-align: right;\">\n",
       "      <th></th>\n",
       "      <th>userid</th>\n",
       "      <th>country</th>\n",
       "      <th>age</th>\n",
       "      <th>gender</th>\n",
       "      <th>start_date</th>\n",
       "      <th>ds</th>\n",
       "      <th>count</th>\n",
       "    </tr>\n",
       "  </thead>\n",
       "  <tbody>\n",
       "    <tr>\n",
       "      <th>0</th>\n",
       "      <td>9694132</td>\n",
       "      <td>FR</td>\n",
       "      <td>74</td>\n",
       "      <td>male</td>\n",
       "      <td>2018-05-04</td>\n",
       "      <td>2020-08-22</td>\n",
       "      <td>2</td>\n",
       "    </tr>\n",
       "    <tr>\n",
       "      <th>1</th>\n",
       "      <td>1295193</td>\n",
       "      <td>NL</td>\n",
       "      <td>19</td>\n",
       "      <td>female</td>\n",
       "      <td>2018-10-29</td>\n",
       "      <td>2020-07-21</td>\n",
       "      <td>1</td>\n",
       "    </tr>\n",
       "    <tr>\n",
       "      <th>2</th>\n",
       "      <td>1588345</td>\n",
       "      <td>US</td>\n",
       "      <td>32</td>\n",
       "      <td>female</td>\n",
       "      <td>2018-07-25</td>\n",
       "      <td>2020-04-14</td>\n",
       "      <td>20</td>\n",
       "    </tr>\n",
       "    <tr>\n",
       "      <th>3</th>\n",
       "      <td>4391699</td>\n",
       "      <td>US</td>\n",
       "      <td>77</td>\n",
       "      <td>male</td>\n",
       "      <td>2018-08-04</td>\n",
       "      <td>2020-08-12</td>\n",
       "      <td>16</td>\n",
       "    </tr>\n",
       "    <tr>\n",
       "      <th>4</th>\n",
       "      <td>4555963</td>\n",
       "      <td>NL</td>\n",
       "      <td>72</td>\n",
       "      <td>male</td>\n",
       "      <td>2018-11-11</td>\n",
       "      <td>2020-07-24</td>\n",
       "      <td>1</td>\n",
       "    </tr>\n",
       "    <tr>\n",
       "      <th>...</th>\n",
       "      <td>...</td>\n",
       "      <td>...</td>\n",
       "      <td>...</td>\n",
       "      <td>...</td>\n",
       "      <td>...</td>\n",
       "      <td>...</td>\n",
       "      <td>...</td>\n",
       "    </tr>\n",
       "    <tr>\n",
       "      <th>1995</th>\n",
       "      <td>7195561</td>\n",
       "      <td>US</td>\n",
       "      <td>41</td>\n",
       "      <td>male</td>\n",
       "      <td>2018-09-09</td>\n",
       "      <td>2020-08-20</td>\n",
       "      <td>31</td>\n",
       "    </tr>\n",
       "    <tr>\n",
       "      <th>1996</th>\n",
       "      <td>4393128</td>\n",
       "      <td>FR</td>\n",
       "      <td>31</td>\n",
       "      <td>male</td>\n",
       "      <td>2018-02-19</td>\n",
       "      <td>2020-08-07</td>\n",
       "      <td>2</td>\n",
       "    </tr>\n",
       "    <tr>\n",
       "      <th>1997</th>\n",
       "      <td>3932293</td>\n",
       "      <td>NL</td>\n",
       "      <td>39</td>\n",
       "      <td>male</td>\n",
       "      <td>2018-11-05</td>\n",
       "      <td>2020-02-21</td>\n",
       "      <td>6</td>\n",
       "    </tr>\n",
       "    <tr>\n",
       "      <th>1998</th>\n",
       "      <td>3541704</td>\n",
       "      <td>US</td>\n",
       "      <td>48</td>\n",
       "      <td>male</td>\n",
       "      <td>2018-02-14</td>\n",
       "      <td>2020-03-21</td>\n",
       "      <td>25</td>\n",
       "    </tr>\n",
       "    <tr>\n",
       "      <th>1999</th>\n",
       "      <td>2897512</td>\n",
       "      <td>PL</td>\n",
       "      <td>48</td>\n",
       "      <td>male</td>\n",
       "      <td>2018-01-21</td>\n",
       "      <td>2020-03-06</td>\n",
       "      <td>5</td>\n",
       "    </tr>\n",
       "  </tbody>\n",
       "</table>\n",
       "<p>2000 rows × 7 columns</p>\n",
       "</div>"
      ],
      "text/plain": [
       "       userid country  age  gender start_date         ds  count\n",
       "0     9694132      FR   74    male 2018-05-04 2020-08-22      2\n",
       "1     1295193      NL   19  female 2018-10-29 2020-07-21      1\n",
       "2     1588345      US   32  female 2018-07-25 2020-04-14     20\n",
       "3     4391699      US   77    male 2018-08-04 2020-08-12     16\n",
       "4     4555963      NL   72    male 2018-11-11 2020-07-24      1\n",
       "...       ...     ...  ...     ...        ...        ...    ...\n",
       "1995  7195561      US   41    male 2018-09-09 2020-08-20     31\n",
       "1996  4393128      FR   31    male 2018-02-19 2020-08-07      2\n",
       "1997  3932293      NL   39    male 2018-11-05 2020-02-21      6\n",
       "1998  3541704      US   48    male 2018-02-14 2020-03-21     25\n",
       "1999  2897512      PL   48    male 2018-01-21 2020-03-06      5\n",
       "\n",
       "[2000 rows x 7 columns]"
      ]
     },
     "execution_count": 4,
     "metadata": {},
     "output_type": "execute_result"
    }
   ],
   "source": [
    "df_a"
   ]
  },
  {
   "cell_type": "markdown",
   "metadata": {},
   "source": [
    "# Aggregation and smoothing"
   ]
  },
  {
   "cell_type": "markdown",
   "metadata": {},
   "source": [
    "I googled: \"pandas aggregate age groups\"\n",
    "\n",
    "leading to: https://stackoverflow.com/questions/54831582/aggregate-age-groups-in-pandas\n",
    "\n",
    "leading to: https://stackoverflow.com/questions/21441259/pandas-groupby-range-of-values\n",
    "\n",
    "I didn't know about `pd.cut` until today"
   ]
  },
  {
   "cell_type": "code",
   "execution_count": 5,
   "metadata": {},
   "outputs": [],
   "source": [
    "df = df_a[['count','age']]"
   ]
  },
  {
   "cell_type": "code",
   "execution_count": 6,
   "metadata": {},
   "outputs": [
    {
     "data": {
      "text/html": [
       "<div>\n",
       "<style scoped>\n",
       "    .dataframe tbody tr th:only-of-type {\n",
       "        vertical-align: middle;\n",
       "    }\n",
       "\n",
       "    .dataframe tbody tr th {\n",
       "        vertical-align: top;\n",
       "    }\n",
       "\n",
       "    .dataframe thead th {\n",
       "        text-align: right;\n",
       "    }\n",
       "</style>\n",
       "<table border=\"1\" class=\"dataframe\">\n",
       "  <thead>\n",
       "    <tr style=\"text-align: right;\">\n",
       "      <th></th>\n",
       "      <th>count</th>\n",
       "      <th>age</th>\n",
       "    </tr>\n",
       "    <tr>\n",
       "      <th>age</th>\n",
       "      <th></th>\n",
       "      <th></th>\n",
       "    </tr>\n",
       "  </thead>\n",
       "  <tbody>\n",
       "    <tr>\n",
       "      <th>(0, 20]</th>\n",
       "      <td>1604</td>\n",
       "      <td>3125</td>\n",
       "    </tr>\n",
       "    <tr>\n",
       "      <th>(20, 40]</th>\n",
       "      <td>12847</td>\n",
       "      <td>28376</td>\n",
       "    </tr>\n",
       "    <tr>\n",
       "      <th>(40, 50]</th>\n",
       "      <td>8248</td>\n",
       "      <td>25166</td>\n",
       "    </tr>\n",
       "    <tr>\n",
       "      <th>(50, 60]</th>\n",
       "      <td>918</td>\n",
       "      <td>7068</td>\n",
       "    </tr>\n",
       "  </tbody>\n",
       "</table>\n",
       "</div>"
      ],
      "text/plain": [
       "          count    age\n",
       "age                   \n",
       "(0, 20]    1604   3125\n",
       "(20, 40]  12847  28376\n",
       "(40, 50]   8248  25166\n",
       "(50, 60]    918   7068"
      ]
     },
     "execution_count": 6,
     "metadata": {},
     "output_type": "execute_result"
    }
   ],
   "source": [
    "df.groupby(pd.cut(df[\"age\"], [0,20,40,50,60])).sum()"
   ]
  },
  {
   "cell_type": "markdown",
   "metadata": {},
   "source": [
    "Ok, so that's half the story, we want to do this for every country, gender, and ds."
   ]
  },
  {
   "cell_type": "code",
   "execution_count": 7,
   "metadata": {},
   "outputs": [],
   "source": [
    "df_a['age_bin'] = np.nan\n",
    "df_a.loc[:, 'age_bin'] = pd.cut(df_a[\"age\"], [0,20,40,50,60, 100], right=True)"
   ]
  },
  {
   "cell_type": "code",
   "execution_count": 8,
   "metadata": {},
   "outputs": [],
   "source": [
    "df_a_segmented = df_a[['country', 'age_bin', 'gender', 'ds', 'count']].groupby(['country','age_bin','gender','ds']).sum()"
   ]
  },
  {
   "cell_type": "code",
   "execution_count": 9,
   "metadata": {},
   "outputs": [
    {
     "data": {
      "text/html": [
       "<div>\n",
       "<style scoped>\n",
       "    .dataframe tbody tr th:only-of-type {\n",
       "        vertical-align: middle;\n",
       "    }\n",
       "\n",
       "    .dataframe tbody tr th {\n",
       "        vertical-align: top;\n",
       "    }\n",
       "\n",
       "    .dataframe thead th {\n",
       "        text-align: right;\n",
       "    }\n",
       "</style>\n",
       "<table border=\"1\" class=\"dataframe\">\n",
       "  <thead>\n",
       "    <tr style=\"text-align: right;\">\n",
       "      <th></th>\n",
       "      <th></th>\n",
       "      <th></th>\n",
       "      <th></th>\n",
       "      <th>count</th>\n",
       "    </tr>\n",
       "    <tr>\n",
       "      <th>country</th>\n",
       "      <th>age_bin</th>\n",
       "      <th>gender</th>\n",
       "      <th>ds</th>\n",
       "      <th></th>\n",
       "    </tr>\n",
       "  </thead>\n",
       "  <tbody>\n",
       "    <tr>\n",
       "      <th rowspan=\"5\" valign=\"top\">CZ</th>\n",
       "      <th rowspan=\"5\" valign=\"top\">(0, 20]</th>\n",
       "      <th rowspan=\"5\" valign=\"top\">female</th>\n",
       "      <th>2020-01-01</th>\n",
       "      <td>NaN</td>\n",
       "    </tr>\n",
       "    <tr>\n",
       "      <th>2020-01-02</th>\n",
       "      <td>NaN</td>\n",
       "    </tr>\n",
       "    <tr>\n",
       "      <th>2020-01-03</th>\n",
       "      <td>NaN</td>\n",
       "    </tr>\n",
       "    <tr>\n",
       "      <th>2020-01-04</th>\n",
       "      <td>NaN</td>\n",
       "    </tr>\n",
       "    <tr>\n",
       "      <th>2020-01-05</th>\n",
       "      <td>NaN</td>\n",
       "    </tr>\n",
       "    <tr>\n",
       "      <th>...</th>\n",
       "      <th>...</th>\n",
       "      <th>...</th>\n",
       "      <th>...</th>\n",
       "      <td>...</td>\n",
       "    </tr>\n",
       "    <tr>\n",
       "      <th rowspan=\"5\" valign=\"top\">US</th>\n",
       "      <th rowspan=\"5\" valign=\"top\">(60, 100]</th>\n",
       "      <th rowspan=\"5\" valign=\"top\">unknown</th>\n",
       "      <th>2020-09-05</th>\n",
       "      <td>NaN</td>\n",
       "    </tr>\n",
       "    <tr>\n",
       "      <th>2020-09-06</th>\n",
       "      <td>NaN</td>\n",
       "    </tr>\n",
       "    <tr>\n",
       "      <th>2020-09-07</th>\n",
       "      <td>NaN</td>\n",
       "    </tr>\n",
       "    <tr>\n",
       "      <th>2020-09-08</th>\n",
       "      <td>NaN</td>\n",
       "    </tr>\n",
       "    <tr>\n",
       "      <th>2020-09-09</th>\n",
       "      <td>5.0</td>\n",
       "    </tr>\n",
       "  </tbody>\n",
       "</table>\n",
       "<p>41745 rows × 1 columns</p>\n",
       "</div>"
      ],
      "text/plain": [
       "                                      count\n",
       "country age_bin   gender  ds               \n",
       "CZ      (0, 20]   female  2020-01-01    NaN\n",
       "                          2020-01-02    NaN\n",
       "                          2020-01-03    NaN\n",
       "                          2020-01-04    NaN\n",
       "                          2020-01-05    NaN\n",
       "...                                     ...\n",
       "US      (60, 100] unknown 2020-09-05    NaN\n",
       "                          2020-09-06    NaN\n",
       "                          2020-09-07    NaN\n",
       "                          2020-09-08    NaN\n",
       "                          2020-09-09    5.0\n",
       "\n",
       "[41745 rows x 1 columns]"
      ]
     },
     "execution_count": 9,
     "metadata": {},
     "output_type": "execute_result"
    }
   ],
   "source": [
    "df_a_segmented"
   ]
  },
  {
   "cell_type": "code",
   "execution_count": 10,
   "metadata": {},
   "outputs": [
    {
     "data": {
      "text/plain": [
       "Interval(0, 20, closed='right')"
      ]
     },
     "execution_count": 10,
     "metadata": {},
     "output_type": "execute_result"
    }
   ],
   "source": [
    "df_a_segmented.reset_index().loc[0,'age_bin']"
   ]
  },
  {
   "cell_type": "code",
   "execution_count": 11,
   "metadata": {},
   "outputs": [
    {
     "data": {
      "text/plain": [
       "pandas._libs.interval.Interval"
      ]
     },
     "execution_count": 11,
     "metadata": {},
     "output_type": "execute_result"
    }
   ],
   "source": [
    "type(df_a_segmented.reset_index().loc[0,'age_bin'])"
   ]
  },
  {
   "cell_type": "code",
   "execution_count": 12,
   "metadata": {},
   "outputs": [],
   "source": [
    "from pandas._libs.interval import Interval"
   ]
  },
  {
   "cell_type": "code",
   "execution_count": 13,
   "metadata": {},
   "outputs": [
    {
     "data": {
      "text/plain": [
       "[(0, 20], (20, 40], (40, 50], (50, 60], (60, 100]]\n",
       "Categories (5, interval[int64]): [(0, 20] < (20, 40] < (40, 50] < (50, 60] < (60, 100]]"
      ]
     },
     "execution_count": 13,
     "metadata": {},
     "output_type": "execute_result"
    }
   ],
   "source": [
    "df_a_segmented.reset_index()['age_bin'].unique()"
   ]
  },
  {
   "cell_type": "code",
   "execution_count": 14,
   "metadata": {},
   "outputs": [],
   "source": [
    "middle_aged = Interval(20, 40, closed='right')"
   ]
  },
  {
   "cell_type": "code",
   "execution_count": 15,
   "metadata": {},
   "outputs": [],
   "source": [
    "df_sample = df_a_segmented.xs(('US', middle_aged, 'male'))"
   ]
  },
  {
   "cell_type": "markdown",
   "metadata": {},
   "source": [
    "Do a simple resampling. This is **not** the same as smoothing. Look at things like `pd.DataFrame.ewm` to do smoothing."
   ]
  },
  {
   "cell_type": "code",
   "execution_count": 16,
   "metadata": {},
   "outputs": [
    {
     "data": {
      "text/plain": [
       "<AxesSubplot:xlabel='ds'>"
      ]
     },
     "execution_count": 16,
     "metadata": {},
     "output_type": "execute_result"
    },
    {
     "data": {
      "image/png": "[encoded data removed]",
      "text/plain": [
       "<Figure size 432x288 with 1 Axes>"
      ]
     },
     "metadata": {
      "needs_background": "light"
     },
     "output_type": "display_data"
    }
   ],
   "source": [
    "df_sample.resample('7D').sum().plot()"
   ]
  },
  {
   "cell_type": "code",
   "execution_count": 17,
   "metadata": {},
   "outputs": [],
   "source": [
    "df_sample_resampled = df_sample.resample('7D').sum()"
   ]
  },
  {
   "cell_type": "code",
   "execution_count": 18,
   "metadata": {},
   "outputs": [],
   "source": [
    "n_steps = 4\n",
    "df_sample_resampled_mean = df_sample_resampled.ewm(halflife=n_steps).mean()\n",
    "df_sample_resampled_std = df_sample_resampled.ewm(halflife=n_steps).std()"
   ]
  },
  {
   "cell_type": "code",
   "execution_count": 19,
   "metadata": {},
   "outputs": [
    {
     "data": {
      "text/plain": [
       "<matplotlib.legend.Legend at 0x7f9a52e5e940>"
      ]
     },
     "execution_count": 19,
     "metadata": {},
     "output_type": "execute_result"
    },
    {
     "data": {
      "image/png": "[encoded data removed]",
      "text/plain": [
       "<Figure size 432x288 with 1 Axes>"
      ]
     },
     "metadata": {
      "needs_background": "light"
     },
     "output_type": "display_data"
    }
   ],
   "source": [
    "fig, ax = plt.subplots()\n",
    "df_sample_resampled.plot(y='count', ax=ax, color='blue', alpha=0.5, label='data')\n",
    "df_sample_resampled_mean.plot(y='count', ax=ax, color='blue', alpha=1, label='mean')\n",
    "ax.fill_between(\n",
    "    df_sample_resampled_mean.index, \n",
    "    (df_sample_resampled_mean+df_sample_resampled_std)['count'].values,\n",
    "    (df_sample_resampled_mean-df_sample_resampled_std)['count'].values,\n",
    "    color='blue',\n",
    "    alpha=0.1,\n",
    "    label='$\\pm$ std'\n",
    ")\n",
    "ax.set_ylabel('Weekly total sales')\n",
    "ax.set_xlabel('Date')\n",
    "ax.set_title('US 20-40yo males total weekly sales')\n",
    "ax.legend()"
   ]
  },
  {
   "cell_type": "markdown",
   "metadata": {},
   "source": [
    "You can also use rolling averages\n",
    "\n",
    "googling: \"pandas smooth time series confidence interval\"\n",
    "\n",
    "https://stackoverflow.com/questions/50161140/how-to-plot-a-time-series-array-with-confidence-intervals-displayed-in-python\n",
    "\n",
    "```python\n",
    "n_steps = 4\n",
    "df_sample_resampled_mean = df_sample_resampled.rolling(n_steps).mean()\n",
    "df_sample_resampled_std = df_sample_resampled.rolling(n_steps).std()\n",
    "```\n",
    "\n",
    "but you said you wanted something smooth so I went with `ewm`"
   ]
  },
  {
   "cell_type": "markdown",
   "metadata": {},
   "source": [
    "You can repeat the above with all the segments you like."
   ]
  },
  {
   "cell_type": "markdown",
   "metadata": {},
   "source": [
    "## Normalization"
   ]
  },
  {
   "cell_type": "code",
   "execution_count": 20,
   "metadata": {},
   "outputs": [
    {
     "data": {
      "text/html": [
       "<div>\n",
       "<style scoped>\n",
       "    .dataframe tbody tr th:only-of-type {\n",
       "        vertical-align: middle;\n",
       "    }\n",
       "\n",
       "    .dataframe tbody tr th {\n",
       "        vertical-align: top;\n",
       "    }\n",
       "\n",
       "    .dataframe thead th {\n",
       "        text-align: right;\n",
       "    }\n",
       "</style>\n",
       "<table border=\"1\" class=\"dataframe\">\n",
       "  <thead>\n",
       "    <tr style=\"text-align: right;\">\n",
       "      <th></th>\n",
       "      <th></th>\n",
       "      <th></th>\n",
       "      <th></th>\n",
       "      <th>count</th>\n",
       "    </tr>\n",
       "    <tr>\n",
       "      <th>country</th>\n",
       "      <th>age_bin</th>\n",
       "      <th>gender</th>\n",
       "      <th>ds</th>\n",
       "      <th></th>\n",
       "    </tr>\n",
       "  </thead>\n",
       "  <tbody>\n",
       "    <tr>\n",
       "      <th rowspan=\"5\" valign=\"top\">CZ</th>\n",
       "      <th rowspan=\"5\" valign=\"top\">(0, 20]</th>\n",
       "      <th rowspan=\"5\" valign=\"top\">female</th>\n",
       "      <th>2020-01-01</th>\n",
       "      <td>NaN</td>\n",
       "    </tr>\n",
       "    <tr>\n",
       "      <th>2020-01-02</th>\n",
       "      <td>NaN</td>\n",
       "    </tr>\n",
       "    <tr>\n",
       "      <th>2020-01-03</th>\n",
       "      <td>NaN</td>\n",
       "    </tr>\n",
       "    <tr>\n",
       "      <th>2020-01-04</th>\n",
       "      <td>NaN</td>\n",
       "    </tr>\n",
       "    <tr>\n",
       "      <th>2020-01-05</th>\n",
       "      <td>NaN</td>\n",
       "    </tr>\n",
       "    <tr>\n",
       "      <th>...</th>\n",
       "      <th>...</th>\n",
       "      <th>...</th>\n",
       "      <th>...</th>\n",
       "      <td>...</td>\n",
       "    </tr>\n",
       "    <tr>\n",
       "      <th rowspan=\"5\" valign=\"top\">US</th>\n",
       "      <th rowspan=\"5\" valign=\"top\">(60, 100]</th>\n",
       "      <th rowspan=\"5\" valign=\"top\">unknown</th>\n",
       "      <th>2020-09-05</th>\n",
       "      <td>NaN</td>\n",
       "    </tr>\n",
       "    <tr>\n",
       "      <th>2020-09-06</th>\n",
       "      <td>NaN</td>\n",
       "    </tr>\n",
       "    <tr>\n",
       "      <th>2020-09-07</th>\n",
       "      <td>NaN</td>\n",
       "    </tr>\n",
       "    <tr>\n",
       "      <th>2020-09-08</th>\n",
       "      <td>NaN</td>\n",
       "    </tr>\n",
       "    <tr>\n",
       "      <th>2020-09-09</th>\n",
       "      <td>5.0</td>\n",
       "    </tr>\n",
       "  </tbody>\n",
       "</table>\n",
       "<p>41745 rows × 1 columns</p>\n",
       "</div>"
      ],
      "text/plain": [
       "                                      count\n",
       "country age_bin   gender  ds               \n",
       "CZ      (0, 20]   female  2020-01-01    NaN\n",
       "                          2020-01-02    NaN\n",
       "                          2020-01-03    NaN\n",
       "                          2020-01-04    NaN\n",
       "                          2020-01-05    NaN\n",
       "...                                     ...\n",
       "US      (60, 100] unknown 2020-09-05    NaN\n",
       "                          2020-09-06    NaN\n",
       "                          2020-09-07    NaN\n",
       "                          2020-09-08    NaN\n",
       "                          2020-09-09    5.0\n",
       "\n",
       "[41745 rows x 1 columns]"
      ]
     },
     "execution_count": 20,
     "metadata": {},
     "output_type": "execute_result"
    }
   ],
   "source": [
    "df_a_segmented"
   ]
  },
  {
   "cell_type": "markdown",
   "metadata": {},
   "source": [
    "Want to normalize counts by the total number of people in each group. But the problem with this is that the total number of people in each group is a function of time. Perhaps it's better to just separate out segments and not try to compare apples and oranges. Or at least, give some further careful thought before attempting to do so.\n",
    "\n",
    "Anyway, for the sake of just demonstrating how to do it if you really wanted to, let's have a go."
   ]
  },
  {
   "cell_type": "code",
   "execution_count": 23,
   "metadata": {},
   "outputs": [
    {
     "data": {
      "text/html": [
       "<div>\n",
       "<style scoped>\n",
       "    .dataframe tbody tr th:only-of-type {\n",
       "        vertical-align: middle;\n",
       "    }\n",
       "\n",
       "    .dataframe tbody tr th {\n",
       "        vertical-align: top;\n",
       "    }\n",
       "\n",
       "    .dataframe thead th {\n",
       "        text-align: right;\n",
       "    }\n",
       "</style>\n",
       "<table border=\"1\" class=\"dataframe\">\n",
       "  <thead>\n",
       "    <tr style=\"text-align: right;\">\n",
       "      <th></th>\n",
       "      <th>userid</th>\n",
       "      <th>country</th>\n",
       "      <th>age</th>\n",
       "      <th>gender</th>\n",
       "      <th>start_date</th>\n",
       "      <th>ds</th>\n",
       "      <th>count</th>\n",
       "      <th>age_bin</th>\n",
       "    </tr>\n",
       "  </thead>\n",
       "  <tbody>\n",
       "    <tr>\n",
       "      <th>0</th>\n",
       "      <td>9694132</td>\n",
       "      <td>FR</td>\n",
       "      <td>74</td>\n",
       "      <td>male</td>\n",
       "      <td>2018-05-04</td>\n",
       "      <td>2020-08-22</td>\n",
       "      <td>2</td>\n",
       "      <td>(60, 100]</td>\n",
       "    </tr>\n",
       "    <tr>\n",
       "      <th>1</th>\n",
       "      <td>1295193</td>\n",
       "      <td>NL</td>\n",
       "      <td>19</td>\n",
       "      <td>female</td>\n",
       "      <td>2018-10-29</td>\n",
       "      <td>2020-07-21</td>\n",
       "      <td>1</td>\n",
       "      <td>(0, 20]</td>\n",
       "    </tr>\n",
       "    <tr>\n",
       "      <th>2</th>\n",
       "      <td>1588345</td>\n",
       "      <td>US</td>\n",
       "      <td>32</td>\n",
       "      <td>female</td>\n",
       "      <td>2018-07-25</td>\n",
       "      <td>2020-04-14</td>\n",
       "      <td>20</td>\n",
       "      <td>(20, 40]</td>\n",
       "    </tr>\n",
       "    <tr>\n",
       "      <th>3</th>\n",
       "      <td>4391699</td>\n",
       "      <td>US</td>\n",
       "      <td>77</td>\n",
       "      <td>male</td>\n",
       "      <td>2018-08-04</td>\n",
       "      <td>2020-08-12</td>\n",
       "      <td>16</td>\n",
       "      <td>(60, 100]</td>\n",
       "    </tr>\n",
       "    <tr>\n",
       "      <th>4</th>\n",
       "      <td>4555963</td>\n",
       "      <td>NL</td>\n",
       "      <td>72</td>\n",
       "      <td>male</td>\n",
       "      <td>2018-11-11</td>\n",
       "      <td>2020-07-24</td>\n",
       "      <td>1</td>\n",
       "      <td>(60, 100]</td>\n",
       "    </tr>\n",
       "    <tr>\n",
       "      <th>...</th>\n",
       "      <td>...</td>\n",
       "      <td>...</td>\n",
       "      <td>...</td>\n",
       "      <td>...</td>\n",
       "      <td>...</td>\n",
       "      <td>...</td>\n",
       "      <td>...</td>\n",
       "      <td>...</td>\n",
       "    </tr>\n",
       "    <tr>\n",
       "      <th>1995</th>\n",
       "      <td>7195561</td>\n",
       "      <td>US</td>\n",
       "      <td>41</td>\n",
       "      <td>male</td>\n",
       "      <td>2018-09-09</td>\n",
       "      <td>2020-08-20</td>\n",
       "      <td>31</td>\n",
       "      <td>(40, 50]</td>\n",
       "    </tr>\n",
       "    <tr>\n",
       "      <th>1996</th>\n",
       "      <td>4393128</td>\n",
       "      <td>FR</td>\n",
       "      <td>31</td>\n",
       "      <td>male</td>\n",
       "      <td>2018-02-19</td>\n",
       "      <td>2020-08-07</td>\n",
       "      <td>2</td>\n",
       "      <td>(20, 40]</td>\n",
       "    </tr>\n",
       "    <tr>\n",
       "      <th>1997</th>\n",
       "      <td>3932293</td>\n",
       "      <td>NL</td>\n",
       "      <td>39</td>\n",
       "      <td>male</td>\n",
       "      <td>2018-11-05</td>\n",
       "      <td>2020-02-21</td>\n",
       "      <td>6</td>\n",
       "      <td>(20, 40]</td>\n",
       "    </tr>\n",
       "    <tr>\n",
       "      <th>1998</th>\n",
       "      <td>3541704</td>\n",
       "      <td>US</td>\n",
       "      <td>48</td>\n",
       "      <td>male</td>\n",
       "      <td>2018-02-14</td>\n",
       "      <td>2020-03-21</td>\n",
       "      <td>25</td>\n",
       "      <td>(40, 50]</td>\n",
       "    </tr>\n",
       "    <tr>\n",
       "      <th>1999</th>\n",
       "      <td>2897512</td>\n",
       "      <td>PL</td>\n",
       "      <td>48</td>\n",
       "      <td>male</td>\n",
       "      <td>2018-01-21</td>\n",
       "      <td>2020-03-06</td>\n",
       "      <td>5</td>\n",
       "      <td>(40, 50]</td>\n",
       "    </tr>\n",
       "  </tbody>\n",
       "</table>\n",
       "<p>2000 rows × 8 columns</p>\n",
       "</div>"
      ],
      "text/plain": [
       "       userid country  age  gender start_date         ds  count    age_bin\n",
       "0     9694132      FR   74    male 2018-05-04 2020-08-22      2  (60, 100]\n",
       "1     1295193      NL   19  female 2018-10-29 2020-07-21      1    (0, 20]\n",
       "2     1588345      US   32  female 2018-07-25 2020-04-14     20   (20, 40]\n",
       "3     4391699      US   77    male 2018-08-04 2020-08-12     16  (60, 100]\n",
       "4     4555963      NL   72    male 2018-11-11 2020-07-24      1  (60, 100]\n",
       "...       ...     ...  ...     ...        ...        ...    ...        ...\n",
       "1995  7195561      US   41    male 2018-09-09 2020-08-20     31   (40, 50]\n",
       "1996  4393128      FR   31    male 2018-02-19 2020-08-07      2   (20, 40]\n",
       "1997  3932293      NL   39    male 2018-11-05 2020-02-21      6   (20, 40]\n",
       "1998  3541704      US   48    male 2018-02-14 2020-03-21     25   (40, 50]\n",
       "1999  2897512      PL   48    male 2018-01-21 2020-03-06      5   (40, 50]\n",
       "\n",
       "[2000 rows x 8 columns]"
      ]
     },
     "execution_count": 23,
     "metadata": {},
     "output_type": "execute_result"
    }
   ],
   "source": [
    "df_a"
   ]
  },
  {
   "cell_type": "code",
   "execution_count": 53,
   "metadata": {},
   "outputs": [],
   "source": [
    "segment_counts = df_a[['userid', 'country', 'age_bin', 'gender']].groupby(['country', 'age_bin', 'gender']).count()\n",
    "segment_counts.rename({'userid':'user_counts'}, axis=1, inplace=True)"
   ]
  },
  {
   "cell_type": "code",
   "execution_count": 54,
   "metadata": {},
   "outputs": [
    {
     "data": {
      "text/html": [
       "<div>\n",
       "<style scoped>\n",
       "    .dataframe tbody tr th:only-of-type {\n",
       "        vertical-align: middle;\n",
       "    }\n",
       "\n",
       "    .dataframe tbody tr th {\n",
       "        vertical-align: top;\n",
       "    }\n",
       "\n",
       "    .dataframe thead th {\n",
       "        text-align: right;\n",
       "    }\n",
       "</style>\n",
       "<table border=\"1\" class=\"dataframe\">\n",
       "  <thead>\n",
       "    <tr style=\"text-align: right;\">\n",
       "      <th></th>\n",
       "      <th></th>\n",
       "      <th></th>\n",
       "      <th>user_counts</th>\n",
       "    </tr>\n",
       "    <tr>\n",
       "      <th>country</th>\n",
       "      <th>age_bin</th>\n",
       "      <th>gender</th>\n",
       "      <th></th>\n",
       "    </tr>\n",
       "  </thead>\n",
       "  <tbody>\n",
       "    <tr>\n",
       "      <th rowspan=\"5\" valign=\"top\">CZ</th>\n",
       "      <th rowspan=\"3\" valign=\"top\">(0, 20]</th>\n",
       "      <th>female</th>\n",
       "      <td>2.0</td>\n",
       "    </tr>\n",
       "    <tr>\n",
       "      <th>male</th>\n",
       "      <td>1.0</td>\n",
       "    </tr>\n",
       "    <tr>\n",
       "      <th>unknown</th>\n",
       "      <td>NaN</td>\n",
       "    </tr>\n",
       "    <tr>\n",
       "      <th rowspan=\"2\" valign=\"top\">(20, 40]</th>\n",
       "      <th>female</th>\n",
       "      <td>2.0</td>\n",
       "    </tr>\n",
       "    <tr>\n",
       "      <th>male</th>\n",
       "      <td>28.0</td>\n",
       "    </tr>\n",
       "    <tr>\n",
       "      <th>...</th>\n",
       "      <th>...</th>\n",
       "      <th>...</th>\n",
       "      <td>...</td>\n",
       "    </tr>\n",
       "    <tr>\n",
       "      <th rowspan=\"5\" valign=\"top\">US</th>\n",
       "      <th rowspan=\"2\" valign=\"top\">(50, 60]</th>\n",
       "      <th>male</th>\n",
       "      <td>54.0</td>\n",
       "    </tr>\n",
       "    <tr>\n",
       "      <th>unknown</th>\n",
       "      <td>5.0</td>\n",
       "    </tr>\n",
       "    <tr>\n",
       "      <th rowspan=\"3\" valign=\"top\">(60, 100]</th>\n",
       "      <th>female</th>\n",
       "      <td>41.0</td>\n",
       "    </tr>\n",
       "    <tr>\n",
       "      <th>male</th>\n",
       "      <td>94.0</td>\n",
       "    </tr>\n",
       "    <tr>\n",
       "      <th>unknown</th>\n",
       "      <td>5.0</td>\n",
       "    </tr>\n",
       "  </tbody>\n",
       "</table>\n",
       "<p>165 rows × 1 columns</p>\n",
       "</div>"
      ],
      "text/plain": [
       "                           user_counts\n",
       "country age_bin   gender              \n",
       "CZ      (0, 20]   female           2.0\n",
       "                  male             1.0\n",
       "                  unknown          NaN\n",
       "        (20, 40]  female           2.0\n",
       "                  male            28.0\n",
       "...                                ...\n",
       "US      (50, 60]  male            54.0\n",
       "                  unknown          5.0\n",
       "        (60, 100] female          41.0\n",
       "                  male            94.0\n",
       "                  unknown          5.0\n",
       "\n",
       "[165 rows x 1 columns]"
      ]
     },
     "execution_count": 54,
     "metadata": {},
     "output_type": "execute_result"
    }
   ],
   "source": [
    "segment_counts"
   ]
  },
  {
   "cell_type": "markdown",
   "metadata": {},
   "source": [
    "Do the normalization"
   ]
  },
  {
   "cell_type": "code",
   "execution_count": 69,
   "metadata": {},
   "outputs": [],
   "source": []
  },
  {
   "cell_type": "code",
   "execution_count": 71,
   "metadata": {},
   "outputs": [
    {
     "data": {
      "text/html": [
       "<div>\n",
       "<style scoped>\n",
       "    .dataframe tbody tr th:only-of-type {\n",
       "        vertical-align: middle;\n",
       "    }\n",
       "\n",
       "    .dataframe tbody tr th {\n",
       "        vertical-align: top;\n",
       "    }\n",
       "\n",
       "    .dataframe thead th {\n",
       "        text-align: right;\n",
       "    }\n",
       "</style>\n",
       "<table border=\"1\" class=\"dataframe\">\n",
       "  <thead>\n",
       "    <tr style=\"text-align: right;\">\n",
       "      <th></th>\n",
       "      <th>count</th>\n",
       "    </tr>\n",
       "    <tr>\n",
       "      <th>ds</th>\n",
       "      <th></th>\n",
       "    </tr>\n",
       "  </thead>\n",
       "  <tbody>\n",
       "    <tr>\n",
       "      <th>2020-01-01</th>\n",
       "      <td>143.0</td>\n",
       "    </tr>\n",
       "    <tr>\n",
       "      <th>2020-01-02</th>\n",
       "      <td>65.0</td>\n",
       "    </tr>\n",
       "    <tr>\n",
       "      <th>2020-01-03</th>\n",
       "      <td>126.0</td>\n",
       "    </tr>\n",
       "    <tr>\n",
       "      <th>2020-01-04</th>\n",
       "      <td>71.0</td>\n",
       "    </tr>\n",
       "    <tr>\n",
       "      <th>2020-01-05</th>\n",
       "      <td>NaN</td>\n",
       "    </tr>\n",
       "    <tr>\n",
       "      <th>...</th>\n",
       "      <td>...</td>\n",
       "    </tr>\n",
       "    <tr>\n",
       "      <th>2020-09-05</th>\n",
       "      <td>71.0</td>\n",
       "    </tr>\n",
       "    <tr>\n",
       "      <th>2020-09-06</th>\n",
       "      <td>86.0</td>\n",
       "    </tr>\n",
       "    <tr>\n",
       "      <th>2020-09-07</th>\n",
       "      <td>9.0</td>\n",
       "    </tr>\n",
       "    <tr>\n",
       "      <th>2020-09-08</th>\n",
       "      <td>35.0</td>\n",
       "    </tr>\n",
       "    <tr>\n",
       "      <th>2020-09-09</th>\n",
       "      <td>NaN</td>\n",
       "    </tr>\n",
       "  </tbody>\n",
       "</table>\n",
       "<p>253 rows × 1 columns</p>\n",
       "</div>"
      ],
      "text/plain": [
       "            count\n",
       "ds               \n",
       "2020-01-01  143.0\n",
       "2020-01-02   65.0\n",
       "2020-01-03  126.0\n",
       "2020-01-04   71.0\n",
       "2020-01-05    NaN\n",
       "...           ...\n",
       "2020-09-05   71.0\n",
       "2020-09-06   86.0\n",
       "2020-09-07    9.0\n",
       "2020-09-08   35.0\n",
       "2020-09-09    NaN\n",
       "\n",
       "[253 rows x 1 columns]"
      ]
     },
     "execution_count": 71,
     "metadata": {},
     "output_type": "execute_result"
    }
   ],
   "source": [
    "df_a_segmented_normed.xs(('US', middle_aged, 'male'))"
   ]
  },
  {
   "cell_type": "code",
   "execution_count": 84,
   "metadata": {},
   "outputs": [],
   "source": [
    "df_a_segmented_normed = df_a_segmented.copy()\n",
    "for ix, counts in segment_counts.iterrows():\n",
    "    df_a_segmented_normed.loc[ix] = (df_a_segmented.loc[ix]/counts['user_counts']).values"
   ]
  },
  {
   "cell_type": "markdown",
   "metadata": {},
   "source": [
    "You can then make the same plots as above if you want."
   ]
  },
  {
   "cell_type": "code",
   "execution_count": 89,
   "metadata": {},
   "outputs": [],
   "source": [
    "df_sample_normed = df_a_segmented_normed.xs(('US', middle_aged, 'male'))"
   ]
  },
  {
   "cell_type": "code",
   "execution_count": 90,
   "metadata": {},
   "outputs": [
    {
     "data": {
      "text/plain": [
       "<AxesSubplot:xlabel='ds'>"
      ]
     },
     "execution_count": 90,
     "metadata": {},
     "output_type": "execute_result"
    },
    {
     "data": {
      "image/png": "[encoded data removed]",
      "text/plain": [
       "<Figure size 432x288 with 1 Axes>"
      ]
     },
     "metadata": {
      "needs_background": "light"
     },
     "output_type": "display_data"
    }
   ],
   "source": [
    "df_sample_normed.resample('7D').sum().plot()"
   ]
  }
 ],
 "metadata": {
  "kernelspec": {
   "display_name": "Python 3",
   "language": "python",
   "name": "python3"
  },
  "language_info": {
   "codemirror_mode": {
    "name": "ipython",
    "version": 3
   },
   "file_extension": ".py",
   "mimetype": "text/x-python",
   "name": "python",
   "nbconvert_exporter": "python",
   "pygments_lexer": "ipython3",
   "version": "3.8.3"
  }
 },
 "nbformat": 4,
 "nbformat_minor": 4
}
